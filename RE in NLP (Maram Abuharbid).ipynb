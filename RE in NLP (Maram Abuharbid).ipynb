{
 "cells": [
  {
   "cell_type": "markdown",
   "metadata": {},
   "source": [
    "# (NLP) ECOM6355\n",
    "- ASSIGNMENT # 1\n",
    "\n",
    "- Maram Abuharbid(220201415)"
   ]
  },
  {
   "cell_type": "code",
   "execution_count": 1,
   "metadata": {},
   "outputs": [],
   "source": [
    "import re"
   ]
  },
  {
   "cell_type": "code",
   "execution_count": 2,
   "metadata": {},
   "outputs": [],
   "source": [
    "text = \"The emergence of COVID-19 we have seen instances of public stigmatization among \\\n",
    "specific populations, and the rise of harmful stereotypes. Stigmatization could potentially contribute\\\n",
    "to more severe health problems, ongoing transmission, and difficulties controlling infectious diseases during an epidemic. \\\n",
    "Please see the Subject in Focus section for more information on how to counter stigmatizing attitudes. \\\n",
    "New cases for today in Alexandria are 256 cases and 122 cases were registered as recovered. \\\n",
    "MOH thinking about major lockdown for 3 weeks. \\\n",
    "In Cairo there were registered 400 new cases and the recovered 350 but no lockdown is seen ahead\""
   ]
  },
  {
   "cell_type": "code",
   "execution_count": 3,
   "metadata": {},
   "outputs": [
    {
     "data": {
      "text/plain": [
       "'The emergence of COVID-19 we have seen instances of public stigmatization among specific populations, and the rise of harmful stereotypes. Stigmatization could potentially contributeto more severe health problems, ongoing transmission, and difficulties controlling infectious diseases during an epidemic. Please see the Subject in Focus section for more information on how to counter stigmatizing attitudes. New cases for today in Alexandria are 256 cases and 122 cases were registered as recovered. MOH thinking about major lockdown for 3 weeks. In Cairo there were registered 400 new cases and the recovered 350 but no lockdown is seen ahead'"
      ]
     },
     "execution_count": 3,
     "metadata": {},
     "output_type": "execute_result"
    }
   ],
   "source": [
    "text"
   ]
  },
  {
   "cell_type": "code",
   "execution_count": 4,
   "metadata": {},
   "outputs": [],
   "source": [
    "r = re.compile(r'\\bNew.cases\\b |  \\brecovered\\b', flags=re.I | re.X)"
   ]
  },
  {
   "cell_type": "code",
   "execution_count": 5,
   "metadata": {},
   "outputs": [
    {
     "data": {
      "text/plain": [
       "['New cases', 'recovered', 'new cases', 'recovered']"
      ]
     },
     "execution_count": 5,
     "metadata": {},
     "output_type": "execute_result"
    }
   ],
   "source": [
    "r.findall(text)"
   ]
  },
  {
   "cell_type": "code",
   "execution_count": 8,
   "metadata": {},
   "outputs": [],
   "source": [
    "Number = re.findall('\\d{3}',text)"
   ]
  },
  {
   "cell_type": "code",
   "execution_count": 9,
   "metadata": {},
   "outputs": [
    {
     "data": {
      "text/plain": [
       "['256', '122', '400', '350']"
      ]
     },
     "execution_count": 9,
     "metadata": {},
     "output_type": "execute_result"
    }
   ],
   "source": [
    "Number"
   ]
  },
  {
   "cell_type": "code",
   "execution_count": 10,
   "metadata": {},
   "outputs": [
    {
     "name": "stdout",
     "output_type": "stream",
     "text": [
      "Alexandria New Cases =  256 ,Alexandria Recoved Cases =  122 \n",
      "Cairo New Cases =  400 , Cairo Recoved Cases =  350\n"
     ]
    }
   ],
   "source": [
    "print(\"Alexandria New Cases = \",Number[0],\",Alexandria Recoved Cases = \",Number[1],\"\\nCairo New Cases = \",Number[2],\", Cairo Recoved Cases = \",Number[3])"
   ]
  }
 ],
 "metadata": {
  "kernelspec": {
   "display_name": "Python 3",
   "language": "python",
   "name": "python3"
  },
  "language_info": {
   "codemirror_mode": {
    "name": "ipython",
    "version": 3
   },
   "file_extension": ".py",
   "mimetype": "text/x-python",
   "name": "python",
   "nbconvert_exporter": "python",
   "pygments_lexer": "ipython3",
   "version": "3.7.8"
  }
 },
 "nbformat": 4,
 "nbformat_minor": 4
}
